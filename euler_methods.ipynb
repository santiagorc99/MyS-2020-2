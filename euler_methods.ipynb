{
  "nbformat": 4,
  "nbformat_minor": 0,
  "metadata": {
    "colab": {
      "name": "euler_methods.ipynb",
      "provenance": [],
      "collapsed_sections": [],
      "authorship_tag": "ABX9TyOsGGo0u+warn86n/GXol6s",
      "include_colab_link": true
    },
    "kernelspec": {
      "name": "python3",
      "display_name": "Python 3"
    }
  },
  "cells": [
    {
      "cell_type": "markdown",
      "metadata": {
        "id": "view-in-github",
        "colab_type": "text"
      },
      "source": [
        "<a href=\"https://colab.research.google.com/github/santiagorc99/MyS-2020-2/blob/main/euler_methods.ipynb\" target=\"_parent\"><img src=\"https://colab.research.google.com/assets/colab-badge.svg\" alt=\"Open In Colab\"/></a>"
      ]
    },
    {
      "cell_type": "markdown",
      "metadata": {
        "id": "r1bk3vjW2URe"
      },
      "source": [
        "#### Santiago Rincón Carreño - 0816052\n",
        "# Modelado y Simulación\n",
        "### Forward Euler Method\n",
        "Es un método numérico para resolver ecuaciones diferenciales, es un método iterativo explícito, por lo que para conocer un estimado en un paso, simplemente es necesario conocer valor del punto en el paso actual.\n",
        "\n",
        "Dada una ecuación del tipo\n",
        "$$\\dot{x}=\\frac{dx}{dt}=f(y)$$ con condiciones iniciales iniciales $x(t_0) = x_0$. \n",
        "\n",
        "Se toma un punto en el tiempo de la forma $t_1=t_0+\\Delta t$. Luego, el cambio en $x$ está dado por $\\Delta x = f(x_0) \\Delta t$ y $x(t_0+\\Delta t) = x_0 + f(x_0)\\Delta t$ es válido si y solo si $\\Delta t\\xrightarrow [  ]{  } 0 $. Se toma un punto $x_1 = x_0 + f(x_0) \\Delta t$. Se realiza un proceso iterativo de manera que:\n",
        "$$x_{i+1} = x_i + hf(x_i)$$\n",
        "Donde $h = \\Delta t$ es un tamaño de paso definido por el usuario, entre más pequeño el tamaño de paso, más acertada la aproximación de $x_i$.\n",
        "\n",
        "Este método se puede generalizar para un sistema de n ecuaciones así:\n",
        "$$\\mathbf{x}_{i+1} = \\mathbf{x}_i + h  f(\\mathbf{x}_i)$$\n",
        "\n",
        "Donde todos los anteriores vectores son vectores columnas y constituyen un sistema de ecuaciones diferenciales n-dimensional.\n",
        "\n",
        "**Ejemplo**: Se tiene la ecuación diferencial $\\dot x = -ax$ para todo $a>0$, hallar la estimación de $x$ por método de euler y calcular el error absoluto promedio con respecto a la solución analítica.\n",
        "\n",
        "**Solución** La solución analítica está dada por $x=e^{-at}$, para todo $a>0$. A continuación se realiza un pequeño código para aplicar el método."
      ]
    },
    {
      "cell_type": "code",
      "metadata": {
        "colab": {
          "base_uri": "https://localhost:8080/",
          "height": 326
        },
        "id": "hHF4tjNj9TEf",
        "outputId": "5b614bb9-a913-4477-c667-d9283540bae6"
      },
      "source": [
        "import numpy as np\n",
        "import matplotlib.pyplot as plt\n",
        "\n",
        "def custom_f1(x):\n",
        "    return -3*x\n",
        "\n",
        "def forward_euler_1D(x0, h, N):\n",
        "    dimension = x.shape[0]\n",
        "\n",
        "    x_estimated = np.zeros([dimension, N])\n",
        "    x_estimated[:,0] = x0\n",
        "    \n",
        "    for i in range(1, N):\n",
        "        current_x = x_estimated[:,i-1]\n",
        "        current_f = custom_f1(current_x)\n",
        "        next_x = current_x + h*current_f\n",
        "        x_estimated[:,i] = next_x\n",
        "\n",
        "    return x_estimated\n",
        "\n",
        "\n",
        "x0 = 1\n",
        "h = 1\n",
        "N = 100\n",
        "\n",
        "t = np.linspace(0,h*N, N) \n",
        "\n",
        "x_real = np.exp(-3*t)\n",
        "x_estimated = forward_euler_1D(x0, h, N)\n",
        "\n",
        "absolute_error = sum(abs(x_real-x_estimated[0,:]))/N\n",
        "print(\"El error absoluto promedio es \",absolute_error, \" .\\n\")\n",
        "\n",
        "plt.plot(t, x_real, 'r')\n",
        "plt.plot(t, x_estimated[0,:], 'b')\n",
        "plt.xlim([0,2])\n",
        "plt.legend(['Analytical solution','Estimated solution'])\n",
        "plt.grid()\n",
        "plt.plot()"
      ],
      "execution_count": null,
      "outputs": [
        {
          "output_type": "stream",
          "text": [
            "El error absoluto promedio es  1.2676506002282294e+28  .\n",
            "\n"
          ],
          "name": "stdout"
        },
        {
          "output_type": "execute_result",
          "data": {
            "text/plain": [
              "[]"
            ]
          },
          "metadata": {
            "tags": []
          },
          "execution_count": 88
        },
        {
          "output_type": "display_data",
          "data": {
            "image/png": "[encoded data removed]",
            "text/plain": [
              "<Figure size 432x288 with 1 Axes>"
            ]
          },
          "metadata": {
            "tags": [],
            "needs_background": "light"
          }
        }
      ]
    },
    {
      "cell_type": "markdown",
      "metadata": {
        "id": "z0CCqCSx9QQJ"
      },
      "source": [
        "### Backward Euler Method\n",
        "Es un método numérico utilizado para resolver ecuaciones diferenciales, es un método iterativo implícito, por lo que para hallar un estimado en el siguiente paso, es necesario conocer el valor actual del estimado y también tiene en cuenta la dependendencia con la función en el valor estimado.\n",
        "\n",
        "Se parte de la definición matemática de la derivada:\n",
        "$$\\dot { x(t) } =\\lim _{ h\\xrightarrow [  ]{  } 0 }{ \\frac { x(t)-x(t-h) }{ h }  }$$ \n",
        "Luego, \n",
        "$$\\dot{x(t)} \\approx \\frac { x(t)-x(t-h) }{ h }$$\n",
        "Se parte desde un punto inicial $x_0=x(t_0)$, si se asume que hay un paso $t_1 = t_0 + \\Delta t$, se tiene:\n",
        "$$f(x(t_1)) = \\frac { x(t_1)-x(0)) }{ h }$$\n",
        "Finalmente, despejando para $x_1$ se tiene que:\n",
        "$$x_1 = x_0 + hf(x_1)$$\n",
        "Donde h es un tamaño de paso definido por el usuario, luego, se hace el proceso itarativamente y se obtiene que:\n",
        "$$x_{i+1} = x_i + hf(x_{i+1})$$\n",
        "Finalmente, para hallar $x_{i+1}$ es necesario resolver la anterior ecuación.\n",
        "\n",
        "**Ejemplo** Considérese el anterior problema $\\dot x = -ax$, hallar el estimado con backward euler y hallar el error absoluto promedio.\n",
        "\n",
        "**Solución**: \n",
        "* La solución analítica está dada por $x=e^{-at}$, para todo $a>0$. A continuación se realiza un pequeño código para aplicar el método.\n",
        "* Se halla de manera analíca el valor estimado $x_{i+1}$ así:\n",
        "$$x_{i+1} = x_i + hf(x_{i+1})$$\n",
        "$$x_{i+1} = x_i - ahx_{i+1}$$\n",
        "$$x_{i+1} = \\frac{x_i}{1+ah}$$\n",
        "\n",
        "Como es un proceso iterativo, se puede generalizar a que:\n",
        "$$x_{i+1} = \\frac{x_0}{(1+ah)^{i+1}}$$"
      ]
    },
    {
      "cell_type": "code",
      "metadata": {
        "colab": {
          "base_uri": "https://localhost:8080/",
          "height": 315
        },
        "id": "Nc_qrSGj_k7I",
        "outputId": "a53be29c-5fb1-429c-911a-0d89f2317dd5"
      },
      "source": [
        "import numpy as np\n",
        "import matplotlib.pyplot as plt\n",
        "\n",
        "def find_estimated1(x_old, h):\n",
        "    return x_old/(1+3*h)\n",
        "\n",
        "def forward_euler_1D(x0, h, N):\n",
        "    dimension = x.shape[0]\n",
        "\n",
        "    x_estimated = np.zeros([dimension, N])\n",
        "    x_estimated[:,0] = x0\n",
        "    \n",
        "    for i in range(1, N):\n",
        "        current_x = x_estimated[:,i-1]\n",
        "        next_x = find_estimated1(current_x, h)\n",
        "        x_estimated[:,i] = next_x\n",
        "\n",
        "    return x_estimated\n",
        "\n",
        "\n",
        "x0 = 1\n",
        "h = 4\n",
        "N = 100\n",
        "\n",
        "t = np.linspace(0,h*N, N) \n",
        "\n",
        "x_real = np.exp(-3*t)\n",
        "x_estimated = forward_euler_1D(x0, h, N)\n",
        "\n",
        "absolute_error = sum(abs(x_real-x_estimated[0,:]))/N\n",
        "print(\"El error absoluto promedio es \",absolute_error, \" .\\n\")\n",
        "\n",
        "plt.plot(t, x_real, 'r')\n",
        "plt.plot(t, x_estimated[0,:], 'b')\n",
        "plt.xlim([0,100])\n",
        "plt.legend(['Analytical solution','Estimated solution'])\n",
        "plt.grid()\n",
        "plt.plot()\n",
        "\n"
      ],
      "execution_count": null,
      "outputs": [
        {
          "output_type": "stream",
          "text": [
            "El error absoluto promedio es  0.0008332789047757014  .\n",
            "\n"
          ],
          "name": "stdout"
        },
        {
          "output_type": "execute_result",
          "data": {
            "text/plain": [
              "[]"
            ]
          },
          "metadata": {
            "tags": []
          },
          "execution_count": 90
        },
        {
          "output_type": "display_data",
          "data": {
            "image/png": "[encoded data removed]",
            "text/plain": [
              "<Figure size 432x288 with 1 Axes>"
            ]
          },
          "metadata": {
            "tags": [],
            "needs_background": "light"
          }
        }
      ]
    },
    {
      "cell_type": "markdown",
      "metadata": {
        "id": "L7kufJbxc7IG"
      },
      "source": [
        "Considérese cualquier función $f(x)$ de clase $C^1$, es decir, que tiene hasta segunda derivada. Dicha función puede representarse por series de taylor de la forma\n",
        "$$f_{(x)}=f_{(x_0)}+f'_{(x_0)}(x-x_0) $$\n",
        "\n",
        "De manera general, se puede representar una función $f(x)$ de la forma\n",
        "$$f(x) = c_1 + c_2x $$\n",
        "Donde $c_i$ para todo $i=\\{1,2\\}$ es un coeficiente constante.\n",
        "\n",
        "Luego, $x_{i+1}$ se halla de la siguiente manera\n",
        "\n",
        "$$x_{i+1} = x_{i} + h(c_1 + c_2x_{i+1})$$\n",
        "$$(1-hc_2)x_{i+1} - (x_i+ hc_1) = 0$$\n",
        "\n",
        "Finalmente\n",
        "$$x_{i+1} = \\frac{x_i+ hc_1}{1-hc_2}$$\n",
        "\n",
        "Se pueden aumentar la cantidad de orden en la expansión de Taylor, pero por ahora simplemente se trabaja con términos de orden 1 por facilidad."
      ]
    },
    {
      "cell_type": "markdown",
      "metadata": {
        "id": "qkrLJNkkgymj"
      },
      "source": [
        "### Rigidez en las ODEs\n",
        "\n",
        "Se dice que un sistema es rígido si la solución a su ecuación diferencial contiene componentes rápidas y otras lentas, por ejemplo:\n",
        "$$x(t) = 2 + e^{-1000t} + e^{-0.1t}$$\n",
        "\n",
        "Donde el término $e^{-1000t}$ decrece muy rápido y $e^{-0.1t}$ cae lentamente. En la resolución de ODEs rígidas se tiene el problema de escoger el parámetro h, ya que si es muy grande la información de la componente lenta se pierde (El método no converge) y si por el contrario es muy pequeño se tiene un costo computacional alto y un error de precisión de bits inducido por los computadores.\n",
        "\n",
        "Por ello, los métodos explícitos tienen un alto riesgo de divergencia si la ODE es rígida o se h es muy grande. Por el contrario, los métodos implícitos inducen un término de convergencia a la estimación, disminuyendo el rioesgo de divergencia y además se puede utilizar un h grande sin temor a la inestabilidad. \n",
        "\n",
        "**Ejemplo** Considérese el problema desarrollado anteriormente $\\dot x = -a x$ para $a>0$, las soluciones que se hallaron son:\n",
        "* $x_{i+1} = x_{i} -ahx_{i} $, la cual presenta un problema de convergencia cuando h es muy grande.\n",
        "* $x_{i+1} = \\frac{x_{i}}{1+ah}$, esta solución garantiza la convergencia incluso si h es muy grande. Visto desde otro punto, ya que $(1+ah)>0$, se puede proponer lo siguiente:\n",
        "$$\\lim_{i -> \\infty}{x_{i+1}} = \\lim_{i -> \\infty}{\\frac{x_{i}}{1+ah}} = \n",
        "\\lim_{i -> \\infty}{\\frac{x_i}{(1+ah)^{i+1}}} = 0 $$"
      ]
    },
    {
      "cell_type": "code",
      "metadata": {
        "id": "aQ20cxanat_K"
      },
      "source": [
        ":"
      ],
      "execution_count": null,
      "outputs": []
    }
  ]
}